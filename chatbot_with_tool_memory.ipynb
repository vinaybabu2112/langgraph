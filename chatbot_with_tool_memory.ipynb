{
 "cells": [
  {
   "cell_type": "code",
   "id": "initial_id",
   "metadata": {
    "collapsed": true,
    "jupyter": {
     "is_executing": true
    }
   },
   "source": [
    "from langchain.chat_models import init_chat_model\n",
    "from typing import Annotated\n",
    "from typing_extensions import TypedDict\n",
    "from langgraph.graph import StateGraph, START, END\n",
    "from langgraph.graph.message import add_messages\n",
    "from langchain_core.tools import tool\n",
    "from langgraph.prebuilt import ToolNode, tools_condition\n",
    "import yfinance as yf"
   ],
   "outputs": [],
   "execution_count": null
  },
  {
   "metadata": {
    "ExecuteTime": {
     "end_time": "2025-07-29T12:40:41.321555Z",
     "start_time": "2025-07-29T12:40:41.302497Z"
    }
   },
   "cell_type": "code",
   "source": [
    "from dotenv import load_dotenv\n",
    "load_dotenv()"
   ],
   "id": "482be21caa3bff53",
   "outputs": [
    {
     "data": {
      "text/plain": [
       "True"
      ]
     },
     "execution_count": 3,
     "metadata": {},
     "output_type": "execute_result"
    }
   ],
   "execution_count": 3
  },
  {
   "metadata": {
    "ExecuteTime": {
     "end_time": "2025-07-29T12:56:47.154592Z",
     "start_time": "2025-07-29T12:56:47.148778Z"
    }
   },
   "cell_type": "code",
   "source": [
    "class State(TypedDict):\n",
    "    # Messages have the type \"list\". The `add_messages` function\n",
    "    # in the annotation defines how this state key should be updated\n",
    "    # (in this case, it appends messages to the list, rather than overwriting them)\n",
    "    messages: Annotated[list, add_messages]"
   ],
   "id": "212897e1d81663b8",
   "outputs": [],
   "execution_count": 27
  },
  {
   "metadata": {},
   "cell_type": "markdown",
   "source": "### Yahoo Finance Api Call function to get stock prices",
   "id": "cef0c52e56eee999"
  },
  {
   "metadata": {
    "ExecuteTime": {
     "end_time": "2025-07-29T12:42:12.847951Z",
     "start_time": "2025-07-29T12:42:12.840518Z"
    }
   },
   "cell_type": "code",
   "source": [
    "@tool\n",
    "def get_stock_price(symbol: str) -> float:\n",
    "    \"\"\"\n",
    "    Return the current market price of a stock using Yahoo Finance.\n",
    "    :param symbol: Stock ticker symbol (e.g., 'AAPL', 'MSFT', 'AMZN', 'RIL.BO')\n",
    "    :return: Current stock price as float\n",
    "    \"\"\"\n",
    "    try:\n",
    "        ticker = yf.Ticker(symbol)\n",
    "        price = ticker.info.get(\"regularMarketPrice\")\n",
    "        return float(price) if price is not None else 0.0\n",
    "    except Exception as e:\n",
    "        print(f\"Error fetching price for {symbol}: {e}\")\n",
    "        return 0.0"
   ],
   "id": "3f1e757c73ed2db8",
   "outputs": [],
   "execution_count": 12
  },
  {
   "metadata": {
    "ExecuteTime": {
     "end_time": "2025-07-29T12:40:50.508737Z",
     "start_time": "2025-07-29T12:40:49.996989Z"
    }
   },
   "cell_type": "code",
   "source": [
    "tools = [get_stock_price]\n",
    "llm = init_chat_model(\"google_genai:gemini-2.0-flash\")\n",
    "llm_with_tools = llm.bind_tools(tools)"
   ],
   "id": "35905b518977de11",
   "outputs": [],
   "execution_count": 6
  },
  {
   "metadata": {},
   "cell_type": "markdown",
   "source": "### Simple tool call using LangGraph",
   "id": "6e880951943a1e39"
  },
  {
   "metadata": {
    "ExecuteTime": {
     "end_time": "2025-07-29T12:54:48.777355Z",
     "start_time": "2025-07-29T12:54:46.762177Z"
    }
   },
   "cell_type": "code",
   "source": [
    "def chatbot_tool_call(state: State):\n",
    "    return {\"messages\": [llm_with_tools.invoke(state[\"messages\"])]}\n",
    "\n",
    "builder = StateGraph(State)\n",
    "\n",
    "builder.add_node(chatbot_tool_call)\n",
    "builder.add_node(\"tools\", ToolNode(tools))\n",
    "\n",
    "builder.add_edge(START, \"chatbot_tool_call\")\n",
    "builder.add_conditional_edges(\"chatbot_tool_call\", tools_condition)\n",
    "builder.add_edge(\"tools\", \"chatbot_tool_call\")\n",
    "builder.add_edge(\"chatbot_tool_call\", END)\n",
    "\n",
    "graph = builder.compile()\n",
    "\n",
    "from IPython.display import Image, display\n",
    "\n",
    "display(Image(graph.get_graph().draw_mermaid_png()))"
   ],
   "id": "7189da4331e2b5f9",
   "outputs": [
    {
     "data": {
      "image/png": "[encoded data removed]",
      "text/plain": [
       "<IPython.core.display.Image object>"
      ]
     },
     "metadata": {},
     "output_type": "display_data"
    }
   ],
   "execution_count": 25
  },
  {
   "metadata": {
    "ExecuteTime": {
     "end_time": "2025-07-29T12:59:11.786579Z",
     "start_time": "2025-07-29T12:59:09.294800Z"
    }
   },
   "cell_type": "code",
   "source": [
    "state = graph.invoke({\"messages\": [{\"role\": \"user\", \"content\": \"What is the price of GOOG stock right now?. i want 25 stocks what is the total amount\"}]})\n",
    "print(state[\"messages\"][-1].content)"
   ],
   "id": "11ca62ee5ac326b",
   "outputs": [
    {
     "name": "stdout",
     "output_type": "stream",
     "text": [
      "The current price of one GOOG stock is $193.42. For 25 stocks, the total amount would be $4835.5.\n"
     ]
    }
   ],
   "execution_count": 28
  },
  {
   "metadata": {
    "ExecuteTime": {
     "end_time": "2025-07-29T13:00:04.918365Z",
     "start_time": "2025-07-29T13:00:02.098827Z"
    }
   },
   "cell_type": "code",
   "source": [
    "state = graph.invoke({\"messages\": [{\"role\": \"user\", \"content\": \"What is the price of NVDA stock right now?. i want 25 stocks what is the total amount add it to previous total\"}]})\n",
    "print(state[\"messages\"][-1].content)"
   ],
   "id": "cb8366a1cf40d5ba",
   "outputs": [
    {
     "name": "stdout",
     "output_type": "stream",
     "text": [
      "The current price of NVDA stock is $176.75.\n",
      "\n",
      "To purchase 25 stocks would cost $176.75 * 25 = $4418.75.\n"
     ]
    }
   ],
   "execution_count": 29
  },
  {
   "metadata": {},
   "cell_type": "markdown",
   "source": [
    "### LangGraph MemorySaver\n",
    "### It saves the memory from previous call"
   ],
   "id": "24ea7d1716b93353"
  },
  {
   "metadata": {
    "ExecuteTime": {
     "end_time": "2025-07-29T12:40:51.538402Z",
     "start_time": "2025-07-29T12:40:51.533958Z"
    }
   },
   "cell_type": "code",
   "source": [
    "from langgraph.checkpoint.memory import MemorySaver\n",
    "memory = MemorySaver()"
   ],
   "id": "8a818ce8f0cccd7a",
   "outputs": [],
   "execution_count": 7
  },
  {
   "metadata": {
    "ExecuteTime": {
     "end_time": "2025-07-29T12:42:16.474097Z",
     "start_time": "2025-07-29T12:42:15.944478Z"
    }
   },
   "cell_type": "code",
   "source": [
    "def chatbot(state: State):\n",
    "    return {\"messages\": [llm_with_tools.invoke(state[\"messages\"])]}\n",
    "\n",
    "builder = StateGraph(State)\n",
    "\n",
    "builder.add_node(chatbot)\n",
    "builder.add_node(\"tools\", ToolNode(tools))\n",
    "\n",
    "builder.add_edge(START, \"chatbot\")\n",
    "builder.add_conditional_edges(\"chatbot\", tools_condition)\n",
    "builder.add_edge(\"tools\", \"chatbot\")\n",
    "builder.add_edge(\"chatbot\", END)\n",
    "\n",
    "graph = builder.compile(checkpointer=memory)\n",
    "\n",
    "from IPython.display import Image, display\n",
    "\n",
    "display(Image(graph.get_graph().draw_mermaid_png()))\n"
   ],
   "id": "21d7ae06a85f9621",
   "outputs": [
    {
     "data": {
      "image/png": "[encoded data removed]",
      "text/plain": [
       "<IPython.core.display.Image object>"
      ]
     },
     "metadata": {},
     "output_type": "display_data"
    }
   ],
   "execution_count": 13
  },
  {
   "metadata": {
    "ExecuteTime": {
     "end_time": "2025-07-29T12:42:21.316369Z",
     "start_time": "2025-07-29T12:42:18.553807Z"
    }
   },
   "cell_type": "code",
   "source": [
    "config1 = {'configurable': { 'thread_id': '1'}}\n",
    "state = graph.invoke({\"messages\": [{\"role\": \"user\", \"content\": \"What is the price of GOOG stock right now?. i want 25 stocks what is the total amount\"}]}, config1)\n",
    "print(state[\"messages\"][-1].content)"
   ],
   "id": "41834805783df25",
   "outputs": [
    {
     "name": "stdout",
     "output_type": "stream",
     "text": [
      "The current price of one GOOG stock is $193.42. Therefore, the total cost for 25 stocks would be $4835.5.\n"
     ]
    }
   ],
   "execution_count": 14
  },
  {
   "metadata": {
    "ExecuteTime": {
     "end_time": "2025-07-29T12:44:30.817949Z",
     "start_time": "2025-07-29T12:44:26.288885Z"
    }
   },
   "cell_type": "code",
   "source": [
    "config2 = {'configurable': { 'thread_id': '2'}}\n",
    "state = graph.invoke({\"messages\": [{\"role\": \"user\", \"content\": \"what is the today's stock price of NVDA and also tell me how much it cost for 25 stocks\"}]}, config=config2)\n",
    "print(state[\"messages\"][-1].content)"
   ],
   "id": "aaa80fe4b33613e9",
   "outputs": [
    {
     "name": "stdout",
     "output_type": "stream",
     "text": [
      "The current stock price of NVDA is $176.75. Therefore, the cost for 25 stocks would be $4418.75.\n"
     ]
    }
   ],
   "execution_count": 15
  },
  {
   "metadata": {
    "ExecuteTime": {
     "end_time": "2025-07-29T12:45:20.933345Z",
     "start_time": "2025-07-29T12:45:07.310500Z"
    }
   },
   "cell_type": "code",
   "source": [
    "msg = \"I want to buy 20 AMZN stocks using current price. Then 15 MSFT. What will be the total cost when added to previous total?\"\n",
    "\n",
    "state = graph.invoke({\"messages\": [{\"role\": \"user\", \"content\": msg}]}, config=config1)\n",
    "print(state[\"messages\"][-1].content)"
   ],
   "id": "4d0740f2a15b1769",
   "outputs": [
    {
     "name": "stdout",
     "output_type": "stream",
     "text": [
      "Okay, let's calculate the total cost.\n",
      "\n",
      "*   **Cost of 20 AMZN stocks:** 20 * $232.79 = $4655.8\n",
      "*   **Cost of 15 MSFT stocks:** 15 * $512.5 = $7687.5\n",
      "*   **Previous total (25 GOOG stocks):** $4835.5\n",
      "*   **Combined total:** $4655.8 + $7687.5 + $4835.5 = $17178.8\n",
      "\n",
      "Therefore, the total cost for all the stocks would be $17178.8.\n"
     ]
    }
   ],
   "execution_count": 16
  },
  {
   "metadata": {
    "ExecuteTime": {
     "end_time": "2025-07-29T12:45:47.557546Z",
     "start_time": "2025-07-29T12:45:43.485434Z"
    }
   },
   "cell_type": "code",
   "source": [
    "msg = \"I want to buy 20 AMZN stocks using current price. Then 15 MSFT. What will be the total cost when added to previous total?\"\n",
    "\n",
    "state = graph.invoke({\"messages\": [{\"role\": \"user\", \"content\": msg}]}, config=config2)\n",
    "print(state[\"messages\"][-1].content)"
   ],
   "id": "d930acfadd7fcb23",
   "outputs": [
    {
     "name": "stdout",
     "output_type": "stream",
     "text": [
      "OK. The current stock price of AMZN is $232.79, so 20 shares would cost $4655.80. The current stock price of MSFT is $512.5, so 15 shares would cost $7687.50. Adding that to the previous total of $4418.75, the grand total is $16762.05.\n"
     ]
    }
   ],
   "execution_count": 17
  },
  {
   "metadata": {
    "ExecuteTime": {
     "end_time": "2025-07-29T13:08:17.190853Z",
     "start_time": "2025-07-29T13:08:16.124687Z"
    }
   },
   "cell_type": "code",
   "source": [
    "config4 = {'configurable': { 'thread_id': '4'}}\n",
    "state = graph.invoke({\"messages\": [{\"role\": \"user\", \"content\": \"who is Pawan Kalyan\"}]}, config4)\n",
    "print(state[\"messages\"][-1].content)"
   ],
   "id": "bcbcac89dca2056b",
   "outputs": [
    {
     "name": "stdout",
     "output_type": "stream",
     "text": [
      "I am sorry, I cannot provide information about people. I can only provide the current stock price of a stock if you give me the stock ticker symbol.\n"
     ]
    }
   ],
   "execution_count": 41
  },
  {
   "metadata": {
    "ExecuteTime": {
     "end_time": "2025-07-29T13:09:20.909429Z",
     "start_time": "2025-07-29T13:09:19.691355Z"
    }
   },
   "cell_type": "code",
   "source": [
    "state = graph.invoke({\"messages\": [{\"role\": \"user\", \"content\": \"who is james cameron\"}]}, config4)\n",
    "print(state[\"messages\"][-1].content)"
   ],
   "id": "3c80eeb4868fc4d5",
   "outputs": [
    {
     "name": "stdout",
     "output_type": "stream",
     "text": [
      "James Cameron is a Canadian filmmaker known for directing movies like Titanic, Avatar, and Terminator.\n"
     ]
    }
   ],
   "execution_count": 42
  },
  {
   "metadata": {
    "ExecuteTime": {
     "end_time": "2025-07-29T13:11:57.958763Z",
     "start_time": "2025-07-29T13:11:56.496684Z"
    }
   },
   "cell_type": "code",
   "source": [
    "state = graph.invoke({\"messages\": [{\"role\": \"user\", \"content\": \"hey you knew about james but you dont knew about pawan kalyan what is this ?\"}]}, config4)\n",
    "print(state[\"messages\"][-1].content)"
   ],
   "id": "bee38ce7c3ac397c",
   "outputs": [
    {
     "name": "stdout",
     "output_type": "stream",
     "text": [
      "I am sorry, I do not have information about individuals unless they are very well known. My knowledge is based on the data I was trained on. Would you like me to find the stock price for a company?\n"
     ]
    }
   ],
   "execution_count": 44
  },
  {
   "metadata": {},
   "cell_type": "markdown",
   "source": "### Langsmith",
   "id": "ba9bfeac46266fba"
  },
  {
   "metadata": {
    "ExecuteTime": {
     "end_time": "2025-07-29T12:47:09.305665Z",
     "start_time": "2025-07-29T12:47:05.904219Z"
    }
   },
   "cell_type": "code",
   "source": [
    "from langsmith import traceable\n",
    "\n",
    "@traceable\n",
    "def call_graph(query: str, config: dict):\n",
    "    state = graph.invoke({\"messages\": [{\"role\": \"user\", \"content\": query}]}, config=config)\n",
    "    return state[\"messages\"][-1].content\n",
    "\n",
    "# Define config outside\n",
    "config3 = {'configurable': { 'thread_id': '3'}}\n",
    "\n",
    "# Call the function\n",
    "call_graph(\"What is the price of GOOG stock right now? I want 20 stocks. What is the total amount?\", config3)\n"
   ],
   "id": "a1910176989da168",
   "outputs": [
    {
     "data": {
      "text/plain": [
       "'The current price of one GOOG stock is $193.42. For 20 stocks, the total amount would be $3868.4.'"
      ]
     },
     "execution_count": 19,
     "metadata": {},
     "output_type": "execute_result"
    }
   ],
   "execution_count": 19
  },
  {
   "metadata": {
    "ExecuteTime": {
     "end_time": "2025-07-29T12:47:20.415288Z",
     "start_time": "2025-07-29T12:47:17.265597Z"
    }
   },
   "cell_type": "code",
   "source": "call_graph(\"I want to buy 20 AMZN stocks using current price. Then 15 MSFT. What will be the total cost when added to previous total?\", config3)",
   "id": "6dab38767b7e51ba",
   "outputs": [
    {
     "data": {
      "text/plain": [
       "'Okay, the current price of AMZN is $232.79 and MSFT is $512.5.\\n\\nThe cost of 20 AMZN stocks is 20 * $232.79 = $4655.8\\nThe cost of 15 MSFT stocks is 15 * $512.5 = $7687.5\\n\\nAdding these to the previous total of $3868.4, the new total cost would be $3868.4 + $4655.8 + $7687.5 = $16211.7.'"
      ]
     },
     "execution_count": 20,
     "metadata": {},
     "output_type": "execute_result"
    }
   ],
   "execution_count": 20
  },
  {
   "metadata": {
    "ExecuteTime": {
     "end_time": "2025-07-29T12:48:10.246272Z",
     "start_time": "2025-07-29T12:48:03.030493Z"
    }
   },
   "cell_type": "code",
   "source": [
    "print(call_graph(\"Buy 20 AMZN stocks at current price.\", config3))\n",
    "print(call_graph(\"Now buy 15 MSFT stocks. Add to previous total.\", config3))\n"
   ],
   "id": "9b30f01e7520269d",
   "outputs": [
    {
     "name": "stdout",
     "output_type": "stream",
     "text": [
      "The current price of AMZN is $232.79. The cost to buy 20 AMZN stocks at this price would be $4655.8.\n",
      "Okay, the current price of MSFT is $512.5.\n",
      "\n",
      "The cost of 15 MSFT stocks is 15 * $512.5 = $7687.5\n",
      "\n",
      "Adding this to the previous total of $4655.8, the new total cost would be $4655.8 + $7687.5 = $12343.3.\n"
     ]
    }
   ],
   "execution_count": 22
  },
  {
   "metadata": {
    "ExecuteTime": {
     "end_time": "2025-07-28T18:25:47.010841Z",
     "start_time": "2025-07-28T18:25:45.602528Z"
    }
   },
   "cell_type": "code",
   "outputs": [
    {
     "name": "stdout",
     "output_type": "stream",
     "text": [
      "I am sorry, I cannot fulfill this request. I am not able to give any kind of financial advice. Investment options should be made based on your own research and in consultation with a financial advisor.\n"
     ]
    }
   ],
   "execution_count": 65,
   "source": "print(call_graph(\"vinay want to stocks tell which stock gives best returns, check top 5 companies in yfinance give thw best option to vinay\", config1))",
   "id": "463d2ef24fd2173c"
  }
 ],
 "metadata": {
  "kernelspec": {
   "display_name": "Python 3",
   "language": "python",
   "name": "python3"
  },
  "language_info": {
   "codemirror_mode": {
    "name": "ipython",
    "version": 2
   },
   "file_extension": ".py",
   "mimetype": "text/x-python",
   "name": "python",
   "nbconvert_exporter": "python",
   "pygments_lexer": "ipython2",
   "version": "2.7.6"
  }
 },
 "nbformat": 4,
 "nbformat_minor": 5
}
